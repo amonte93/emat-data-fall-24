{
 "cells": [
  {
   "cell_type": "markdown",
   "id": "2fb11fd1-acb2-45e8-8427-eae02b0c0753",
   "metadata": {},
   "source": [
    "# 1. Systems Check\n",
    "## 2. Austin Monte\n",
    "### 3. 8/22/2024"
   ]
  },
  {
   "cell_type": "markdown",
   "id": "0a835ab3-701f-4f3e-9c3e-d1eff549cf25",
   "metadata": {},
   "source": [
    "#### 4. In this class, I would like to become more comfortable with _coding_ and __using Python__. I am very inexperienced with coding and I struggle with it but I know it is very valuable and can broaden my skills as I finish my undergraduate degree."
   ]
  },
  {
   "cell_type": "markdown",
   "id": "c95e014b-7733-4fed-a341-09be0d54618f",
   "metadata": {},
   "source": [
    "![dog](https://hips.hearstapps.com/hmg-prod/images/dog-puppy-on-garden-royalty-free-image-1586966191.jpg?crop=0.752xw:1.00xh;0.175xw,0&resize=1200:*)"
   ]
  }
 ],
 "metadata": {
  "kernelspec": {
   "display_name": "Python 3 (ipykernel)",
   "language": "python",
   "name": "python3"
  },
  "language_info": {
   "codemirror_mode": {
    "name": "ipython",
    "version": 3
   },
   "file_extension": ".py",
   "mimetype": "text/x-python",
   "name": "python",
   "nbconvert_exporter": "python",
   "pygments_lexer": "ipython3",
   "version": "3.12.4"
  }
 },
 "nbformat": 4,
 "nbformat_minor": 5
}
