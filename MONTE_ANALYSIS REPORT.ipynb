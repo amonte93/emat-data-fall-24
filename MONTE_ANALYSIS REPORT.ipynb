{
 "cells": [
  {
   "cell_type": "markdown",
   "id": "7a62d289-92cb-467a-9a30-8abba9c61a4f",
   "metadata": {},
   "source": [
    "# AUSTIN MONTE - ANALYSIS REPORT\n",
    "### HYPOTHESIS - Tracking popularity, energy, and tempo, I plan to use those values to determine which of Bruno Mars' studio albums is the favorite by the public. As a critically acclaimed artist with multiple awards, all of his albums are highly praised and being able to use these statistics from Spotify's API will help solve my hypothesis."
   ]
  },
  {
   "cell_type": "markdown",
   "id": "7bf831d7-181c-4fc8-b2fe-f8cb5cfc640f",
   "metadata": {},
   "source": [
    "#### Majority of Bruno Mars' music is upbeat, pop music that does well on the Billboard top 100, so that is why I believe that tracking popularity, energy, and tempo will be the best data to use for my hypothesis.\n",
    "\n",
    "#### Bruno Mars has been making music since the early 2010s, before Spotify's existence. Because of this, for his earlier albums, the popularity data might not be as accurate as his later albums, since his earlier albums were mostly sold on CDs instead of streaming."
   ]
  },
  {
   "cell_type": "code",
   "execution_count": 3,
   "id": "5b310edd-7383-452f-ba23-93ed4c981864",
   "metadata": {},
   "outputs": [],
   "source": [
    "import urllib\n",
    "import requests\n",
    "import json\n",
    "import pandas as pd\n",
    "import base64\n",
    "import matplotlib.pyplot as plt"
   ]
  },
  {
   "cell_type": "code",
   "execution_count": 4,
   "id": "5abccf73-7de7-4027-b6c3-eb8cea0f5036",
   "metadata": {},
   "outputs": [],
   "source": [
    "def get_session_token(SessionID, SessionKey):\n",
    "    url = 'https://accounts.spotify.com/api/token'\n",
    "    data = {'grant_type':'client_credentials'}\n",
    "    encoded_key = base64.b64encode(str(SessionID + \":\" + SessionKey).\\\n",
    "                                    encode(\"ascii\"))\n",
    "    header = {'Authorization': 'Basic {}'.format(encoded_key.decode(\"ascii\"))}\n",
    "\n",
    "    response = requests.post(url,\n",
    "                            data = data,\n",
    "                           headers = header)\n",
    "    print(response.status_code)\n",
    "    return response.json()['access_token']"
   ]
  },
  {
   "cell_type": "code",
   "execution_count": 5,
   "id": "e12ef971-b576-4542-9582-8908546cba53",
   "metadata": {},
   "outputs": [],
   "source": [
    "keys = pd.read_csv(\"spotify api.txt\")"
   ]
  },
  {
   "cell_type": "code",
   "execution_count": 6,
   "id": "06c3be5b-c6f3-4773-a3b4-53cdc3ccca97",
   "metadata": {},
   "outputs": [
    {
     "name": "stdout",
     "output_type": "stream",
     "text": [
      "200\n"
     ]
    }
   ],
   "source": [
    "access_token = get_session_token(keys['Client_ID'].iloc[0],keys['Client_Secret'].iloc[0])"
   ]
  },
  {
   "cell_type": "code",
   "execution_count": 7,
   "id": "a1b0457e-89a7-4af4-bff1-97b17bf07044",
   "metadata": {},
   "outputs": [],
   "source": [
    "t_features_ep = 'https://api.spotify.com/v1/audio-features'\n",
    "tracks_ep = 'https://api.spotify.com/v1/tracks'\n",
    "ab_tracks_ep = 'https://api.spotify.com/v1/albums/{}/tracks'"
   ]
  },
  {
   "cell_type": "code",
   "execution_count": 8,
   "id": "b6c32167-c00c-485a-8441-839158c43792",
   "metadata": {},
   "outputs": [],
   "source": [
    "def api_call(endpoint_url, api_header):\n",
    "    response = requests.get(endpoint_url, headers = api_header)\n",
    "    print(response.status_code)\n",
    "    return response.json()"
   ]
  },
  {
   "cell_type": "code",
   "execution_count": 9,
   "id": "2fd6a965-941f-4a19-96f4-f44481405993",
   "metadata": {},
   "outputs": [],
   "source": [
    "session_header = {'Authorization': 'Bearer {}'.format(access_token)}"
   ]
  },
  {
   "cell_type": "code",
   "execution_count": 10,
   "id": "15bb5081-4437-4682-8b38-513eede5f8a9",
   "metadata": {},
   "outputs": [],
   "source": [
    "dw_album_id = \"1uyf3l2d4XYwiEqAb7t7fX\"\n",
    "#Doo-Woops & Hooligans\n",
    "uj_album_id = \"58ufpQsJ1DS5kq4hhzQDiI\"\n",
    "#Unorthodox Jukebox\n",
    "tf_album_id = \"4PgleR09JVnm3zY1fW3XBA\"\n",
    "#24K Magic\n",
    "ss_album_id = \"4VZ7jhV0wHpoNPCB7Vmiml\"\n",
    "#An Evening with Silk Sonic"
   ]
  },
  {
   "cell_type": "code",
   "execution_count": 11,
   "id": "e1e1a3eb-4788-4bf6-b1c9-8f016082a188",
   "metadata": {},
   "outputs": [
    {
     "data": {
      "text/plain": [
       "'https://api.spotify.com/v1/albums/4VZ7jhV0wHpoNPCB7Vmiml/tracks'"
      ]
     },
     "execution_count": 11,
     "metadata": {},
     "output_type": "execute_result"
    }
   ],
   "source": [
    "ab_tracks_ep.format(dw_album_id)\n",
    "ab_tracks_ep.format(uj_album_id)\n",
    "ab_tracks_ep.format(tf_album_id)\n",
    "ab_tracks_ep.format(ss_album_id)"
   ]
  },
  {
   "cell_type": "code",
   "execution_count": 12,
   "id": "43ffef15-2532-4c21-b3eb-62443fb7bf3f",
   "metadata": {},
   "outputs": [
    {
     "name": "stdout",
     "output_type": "stream",
     "text": [
      "200\n",
      "200\n",
      "200\n",
      "200\n"
     ]
    }
   ],
   "source": [
    "dw_album_response = api_call(ab_tracks_ep.format(dw_album_id), session_header)\n",
    "uj_album_response = api_call(ab_tracks_ep.format(uj_album_id), session_header)\n",
    "tf_album_response = api_call(ab_tracks_ep.format(tf_album_id), session_header)\n",
    "ss_album_response = api_call(ab_tracks_ep.format(ss_album_id), session_header)"
   ]
  },
  {
   "cell_type": "code",
   "execution_count": 13,
   "id": "943e456f-ec49-413a-94dc-86233d8b5c0e",
   "metadata": {},
   "outputs": [],
   "source": [
    "dw_album_df = pd.DataFrame(dw_album_response['items'])\n",
    "uj_album_df = pd.DataFrame(uj_album_response['items'])\n",
    "tf_album_df = pd.DataFrame(tf_album_response['items'])\n",
    "ss_album_df = pd.DataFrame(ss_album_response['items'])"
   ]
  },
  {
   "cell_type": "code",
   "execution_count": 14,
   "id": "e4b2e11d-ed91-44fe-93b1-cfd519cb4796",
   "metadata": {},
   "outputs": [],
   "source": [
    "dw_track_ids = ','.join(dw_album_df['id'].to_list())\n",
    "uj_track_ids = ','.join(uj_album_df['id'].to_list())\n",
    "tf_track_ids = ','.join(tf_album_df['id'].to_list())\n",
    "ss_track_ids = ','.join(ss_album_df['id'].to_list())"
   ]
  },
  {
   "cell_type": "code",
   "execution_count": 15,
   "id": "5d7d432d-54b6-4fc0-aa8c-90a050fc4521",
   "metadata": {},
   "outputs": [
    {
     "data": {
      "text/plain": [
       "'https://api.spotify.com/v1/audio-features?ids=4K09vJ27xCOreumtSuU6Ao,4pryE6cN2gFL1FVF5fYINl,7suB6D6uKX5DfPukdGaz0W,6jGAh1bFnXt1Muj9zeHveZ,1oERlssLrpssCAY6Yqqs6c,5lka5RUbLVQGO94mKAPMRO,2K6vUau7bnZUamjbRSOOvJ,3WTWh2WDk4j8GUCGj4xfOd,2ALh2jqA7KldpHMUHvRomw,2NqyjfDXy0XfXCSPXMsKzi'"
      ]
     },
     "execution_count": 15,
     "metadata": {},
     "output_type": "execute_result"
    }
   ],
   "source": [
    "t_features_ep + '?ids={}'.format(dw_track_ids)\n",
    "t_features_ep + '?ids={}'.format(uj_track_ids)\n",
    "t_features_ep + '?ids={}'.format(tf_track_ids)\n",
    "t_features_ep + '?ids={}'.format(ss_track_ids)"
   ]
  },
  {
   "cell_type": "code",
   "execution_count": 16,
   "id": "8fa915f2-aa59-48e5-8c40-4a509e661a82",
   "metadata": {},
   "outputs": [
    {
     "name": "stdout",
     "output_type": "stream",
     "text": [
      "403\n",
      "403\n",
      "403\n",
      "403\n"
     ]
    }
   ],
   "source": [
    "dw_track_features = api_call(t_features_ep + '?ids={}'.format(dw_track_ids), session_header)\n",
    "uj_track_features = api_call(t_features_ep + '?ids={}'.format(uj_track_ids), session_header)\n",
    "tf_track_features = api_call(t_features_ep + '?ids={}'.format(tf_track_ids), session_header)\n",
    "ss_track_features = api_call(t_features_ep + '?ids={}'.format(ss_track_ids), session_header)"
   ]
  },
  {
   "cell_type": "code",
   "execution_count": 17,
   "id": "d1defce5-6348-4ff3-9470-06505b48f081",
   "metadata": {},
   "outputs": [
    {
     "name": "stdout",
     "output_type": "stream",
     "text": [
      "200\n",
      "200\n",
      "200\n",
      "200\n"
     ]
    }
   ],
   "source": [
    "dw_track_info = api_call(tracks_ep + '?market=US&ids={}'.format(dw_track_ids), session_header)\n",
    "uj_track_info = api_call(tracks_ep + '?market=US&ids={}'.format(uj_track_ids), session_header)\n",
    "tf_track_info = api_call(tracks_ep + '?market=US&ids={}'.format(tf_track_ids), session_header)\n",
    "ss_track_info = api_call(tracks_ep + '?market=US&ids={}'.format(ss_track_ids), session_header)"
   ]
  },
  {
   "cell_type": "code",
   "execution_count": 18,
   "id": "87d3d312-1cbb-4a7d-966e-2de4eb2ffd3c",
   "metadata": {},
   "outputs": [
    {
     "ename": "KeyError",
     "evalue": "'audio_features'",
     "output_type": "error",
     "traceback": [
      "\u001b[0;31m---------------------------------------------------------------------------\u001b[0m",
      "\u001b[0;31mKeyError\u001b[0m                                  Traceback (most recent call last)",
      "Cell \u001b[0;32mIn[18], line 1\u001b[0m\n\u001b[0;32m----> 1\u001b[0m dw_features_df \u001b[38;5;241m=\u001b[39m pd\u001b[38;5;241m.\u001b[39mDataFrame(\u001b[43mdw_track_features\u001b[49m\u001b[43m[\u001b[49m\u001b[38;5;124;43m'\u001b[39;49m\u001b[38;5;124;43maudio_features\u001b[39;49m\u001b[38;5;124;43m'\u001b[39;49m\u001b[43m]\u001b[49m)\n\u001b[1;32m      2\u001b[0m dw_features_df\u001b[38;5;241m.\u001b[39mhead()\n",
      "\u001b[0;31mKeyError\u001b[0m: 'audio_features'"
     ]
    }
   ],
   "source": [
    "dw_features_df = pd.DataFrame(dw_track_features['audio_features'])\n",
    "dw_features_df.head()"
   ]
  },
  {
   "cell_type": "code",
   "execution_count": null,
   "id": "294a89b4-a99d-4311-b3a7-969675c0a9ba",
   "metadata": {},
   "outputs": [],
   "source": [
    "uj_features_df = pd.DataFrame(uj_track_features['audio_features'])\n",
    "uj_features_df.head()"
   ]
  },
  {
   "cell_type": "code",
   "execution_count": null,
   "id": "0e3f4d1a-1f77-41b4-ac67-1eafe08b1058",
   "metadata": {},
   "outputs": [],
   "source": [
    "tf_features_df = pd.DataFrame(tf_track_features['audio_features'])\n",
    "tf_features_df.head()"
   ]
  },
  {
   "cell_type": "code",
   "execution_count": null,
   "id": "ffe4f807-16f6-4df3-a4d7-7839ecd3a362",
   "metadata": {},
   "outputs": [],
   "source": [
    "ss_features_df = pd.DataFrame(ss_track_features['audio_features'])\n",
    "ss_features_df.head()"
   ]
  },
  {
   "cell_type": "code",
   "execution_count": null,
   "id": "39bd7bb2-19c5-4c1d-a2db-8798f4f69e93",
   "metadata": {},
   "outputs": [],
   "source": [
    "dw_tracks_df = pd.DataFrame(dw_track_info['tracks'])\n",
    "uj_tracks_df = pd.DataFrame(uj_track_info['tracks'])\n",
    "tf_tracks_df = pd.DataFrame(tf_track_info['tracks'])\n",
    "ss_tracks_df = pd.DataFrame(ss_track_info['tracks'])"
   ]
  },
  {
   "cell_type": "code",
   "execution_count": null,
   "id": "dd2fa39f-ed4d-4d25-bb88-53f51cc84d26",
   "metadata": {},
   "outputs": [],
   "source": [
    "dw_merged = pd.merge(dw_features_df, dw_tracks_df,\n",
    "                     how = 'inner', on = 'id')\n",
    "dw_merged.head()"
   ]
  },
  {
   "cell_type": "code",
   "execution_count": null,
   "id": "704e78af-38ec-4bb2-b03b-5d306eacf6ae",
   "metadata": {},
   "outputs": [],
   "source": [
    "uj_merged = pd.merge(uj_features_df, uj_tracks_df,\n",
    "                     how = 'inner', on = 'id')\n",
    "uj_merged.head()"
   ]
  },
  {
   "cell_type": "code",
   "execution_count": null,
   "id": "c6211a3b-9b36-4083-99f8-2c833d72563d",
   "metadata": {},
   "outputs": [],
   "source": [
    "tf_merged = pd.merge(tf_features_df, tf_tracks_df,\n",
    "                     how = 'inner', on = 'id')\n",
    "tf_merged.head()"
   ]
  },
  {
   "cell_type": "code",
   "execution_count": null,
   "id": "803da6b6-c4d5-4a1e-bf53-7c9092aa331c",
   "metadata": {},
   "outputs": [],
   "source": [
    "ss_merged = pd.merge(ss_features_df, ss_tracks_df,\n",
    "                     how = 'inner', on = 'id')\n",
    "ss_merged.head()"
   ]
  },
  {
   "cell_type": "code",
   "execution_count": null,
   "id": "be6f185e-f31a-4c18-b5d2-3cbd2dd95626",
   "metadata": {},
   "outputs": [],
   "source": [
    "album_comp = pd.concat([dw_merged, uj_merged, tf_merged, ss_merged], axis = 0)\n",
    "album_comp"
   ]
  },
  {
   "cell_type": "code",
   "execution_count": null,
   "id": "5e9de4fc-f668-4b2e-b828-a4e4f42282a5",
   "metadata": {},
   "outputs": [],
   "source": [
    "name_pop_eng_temp = album_comp[['name', 'energy', 'popularity', 'tempo']]"
   ]
  },
  {
   "cell_type": "code",
   "execution_count": null,
   "id": "d217d968-10c0-4a5f-87a7-9dfdf57b211f",
   "metadata": {},
   "outputs": [],
   "source": [
    "name_pop_eng_temp.head(50)"
   ]
  },
  {
   "cell_type": "code",
   "execution_count": null,
   "id": "b3bab74c-cadf-418c-a090-14fba8174d22",
   "metadata": {},
   "outputs": [],
   "source": [
    "fig1, ax1 = plt.subplots(1, 2, figsize = (7, 5))\n",
    "ax1[0].hist(dw_merged['popularity'])\n",
    "ax1[1].hist(dw_merged['energy'])\n",
    "ax1[2].hist(dw_merged['tempo'])\n",
    "\n",
    "plt.show()"
   ]
  },
  {
   "cell_type": "code",
   "execution_count": null,
   "id": "bc47c668-3078-423f-a8cd-3f28eca0151e",
   "metadata": {},
   "outputs": [],
   "source": [
    "fig2, ax2 = plt.subplots(1, 2, figsize = (7, 5))\n",
    "ax2[0].hist(uj_merged['popularity'])\n",
    "ax2[1].hist(uj_merged['energy'])\n",
    "ax2[2].hist(uj_merged['tempo'])\n",
    "\n",
    "plt.show()"
   ]
  },
  {
   "cell_type": "code",
   "execution_count": null,
   "id": "2db849c7-d9bb-4df7-a2f4-8c980de86b67",
   "metadata": {},
   "outputs": [],
   "source": [
    "fig3, ax3 = plt.subplots(1, 2, figsize = (7, 5))\n",
    "ax3[0].hist(tf_merged['popularity'])\n",
    "ax3[1].hist(tf_merged['energy'])\n",
    "ax3[2].hist(tf_merged['tempo'])\n",
    "\n",
    "plt.show()"
   ]
  },
  {
   "cell_type": "code",
   "execution_count": 19,
   "id": "e361e2be-3310-4c26-b076-a5f82f331922",
   "metadata": {},
   "outputs": [
    {
     "ename": "NameError",
     "evalue": "name 'ss_merged' is not defined",
     "output_type": "error",
     "traceback": [
      "\u001b[0;31m---------------------------------------------------------------------------\u001b[0m",
      "\u001b[0;31mNameError\u001b[0m                                 Traceback (most recent call last)",
      "Cell \u001b[0;32mIn[19], line 2\u001b[0m\n\u001b[1;32m      1\u001b[0m fig4, ax4 \u001b[38;5;241m=\u001b[39m plt\u001b[38;5;241m.\u001b[39msubplots(\u001b[38;5;241m1\u001b[39m, \u001b[38;5;241m2\u001b[39m, figsize \u001b[38;5;241m=\u001b[39m (\u001b[38;5;241m7\u001b[39m, \u001b[38;5;241m5\u001b[39m))\n\u001b[0;32m----> 2\u001b[0m ax4[\u001b[38;5;241m0\u001b[39m]\u001b[38;5;241m.\u001b[39mhist(\u001b[43mss_merged\u001b[49m[\u001b[38;5;124m'\u001b[39m\u001b[38;5;124mpopularity\u001b[39m\u001b[38;5;124m'\u001b[39m])\n\u001b[1;32m      3\u001b[0m ax4[\u001b[38;5;241m1\u001b[39m]\u001b[38;5;241m.\u001b[39mhist(ss_merged[\u001b[38;5;124m'\u001b[39m\u001b[38;5;124menergy\u001b[39m\u001b[38;5;124m'\u001b[39m])\n\u001b[1;32m      4\u001b[0m ax4[\u001b[38;5;241m2\u001b[39m]\u001b[38;5;241m.\u001b[39mhist(ss_merged[\u001b[38;5;124m'\u001b[39m\u001b[38;5;124mtempo\u001b[39m\u001b[38;5;124m'\u001b[39m])\n",
      "\u001b[0;31mNameError\u001b[0m: name 'ss_merged' is not defined"
     ]
    },
    {
     "data": {
      "image/png": "[encoded data removed]",
      "text/plain": [
       "<Figure size 700x500 with 2 Axes>"
      ]
     },
     "metadata": {},
     "output_type": "display_data"
    }
   ],
   "source": [
    "fig4, ax4 = plt.subplots(1, 2, figsize = (7, 5))\n",
    "ax4[0].hist(ss_merged['popularity'])\n",
    "ax4[1].hist(ss_merged['energy'])\n",
    "ax4[2].hist(ss_merged['tempo'])\n",
    "\n",
    "plt.show()"
   ]
  },
  {
   "cell_type": "markdown",
   "id": "932d3969-1832-4a8f-b5aa-9eae659c05f1",
   "metadata": {},
   "source": [
    "# Averages per album (DW, UJ, TF, SS)\n",
    "\n",
    "## Popularity: 69.9, 68.6, 72, 60.7\n",
    "## Energy: 0.676, 0.628, 0.690, 0.612\n",
    "## Tempo: 123.070, 116.269, 136.310, 116.022"
   ]
  },
  {
   "cell_type": "markdown",
   "id": "cac05077-b0f0-4253-bfa8-6071324d9695",
   "metadata": {},
   "source": [
    "### Based on the data provided for the four albums, the average popularity ranges from 60.7 to 72, with 24K Magic being the most popular and An Evening with Silk Sonic the least. The energy levels across the albums are relatively consistent, ranging from 0.612 to 0.690, with 24K Magic having the highest energy and An Evening with Silk Sonic the lowest.\n",
    "\n",
    "### Tempo varies more significantly, with 24K Magic having the fastest average tempo at 136.310 BPM and An Evening with Silk Sonic the slowest at 116.022 BPM. Overall, 24K Magic stands out for its higher popularity, energy, and tempo compared to the other albums."
   ]
  },
  {
   "cell_type": "markdown",
   "id": "24a3d0d6-a6ad-459e-869f-c388842a4bdd",
   "metadata": {},
   "source": [
    "### The analysis of the data provides a snapshot of key musical attributes (popularity, energy, and tempo) for the four albums, but it has several limitations. The data is averaged, which masks individual song variation and ignores other factors like lyrical content, genre diversity, or production style, all of which can impact listener reception and popularity. Additionally, the metrics used (energy, tempo) are somewhat abstract and may not fully capture the nuances of the albums.\n",
    "\n",
    "### Alternative approaches could involve analyzing individual song data for a more granular view, incorporating listener demographics, or using  metrics outside of Spotify's API. Next steps could include examining how these metrics correlate with external factors such as release timing, marketing efforts, or artist collaboration, to better understand what drives an album's overall success and popularity."
   ]
  },
  {
   "cell_type": "code",
   "execution_count": null,
   "id": "97bc4846-8f5e-47bc-b848-ae88b96db358",
   "metadata": {},
   "outputs": [],
   "source": []
  },
  {
   "cell_type": "code",
   "execution_count": null,
   "id": "5e371adf-a0dc-4e96-a122-33e9deb7defd",
   "metadata": {},
   "outputs": [],
   "source": []
  }
 ],
 "metadata": {
  "kernelspec": {
   "display_name": "Python 3 (ipykernel)",
   "language": "python",
   "name": "python3"
  },
  "language_info": {
   "codemirror_mode": {
    "name": "ipython",
    "version": 3
   },
   "file_extension": ".py",
   "mimetype": "text/x-python",
   "name": "python",
   "nbconvert_exporter": "python",
   "pygments_lexer": "ipython3",
   "version": "3.12.4"
  }
 },
 "nbformat": 4,
 "nbformat_minor": 5
}
