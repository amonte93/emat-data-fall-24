{
 "cells": [
  {
   "cell_type": "code",
   "execution_count": null,
   "id": "432c22c9-6662-413f-b103-7523ebf5071b",
   "metadata": {},
   "outputs": [],
   "source": []
  },
  {
   "cell_type": "markdown",
   "id": "53e08a7c-51c0-49b8-a86f-884142987918",
   "metadata": {},
   "source": [
    "# Austin Monte - Likes Report - 9/12/2024\n",
    "## I am using my personal Instagram data, downloaded from Instagram's data collection over the last several years of my Instagram account.\n",
    "## This data was created by keeping records of the posts and stories that I liked on instagram since the accounts creation.\n",
    "## This data is reliable because it is data that has been tracked and recorded from Meta, the company that runs Instagram. There is no third party that was keeping records of my data\n",
    "## However, this data can be unreliable because I've had this account for several years, and my interests and what I like on instagram has changed throughout the last 5 years. This data may not be an accurate representation of what I am currently following."
   ]
  },
  {
   "cell_type": "code",
   "execution_count": 1,
   "id": "deb3fae6-c9d0-4176-870f-6782a9541064",
   "metadata": {},
   "outputs": [],
   "source": [
    "import json\n",
    "import pandas as pd"
   ]
  },
  {
   "cell_type": "code",
   "execution_count": 2,
   "id": "fd4e3884-0b08-45ae-a9cd-1debf756a0b1",
   "metadata": {},
   "outputs": [],
   "source": [
    "path = \"/Users/austinmonte/Documents/2024 FALL SEMESTER/DATA IN EMAT/social media data/insta/instagram-saucetin93-2024-08-29-fxG8wAf6/your_instagram_activity/likes/liked_posts.json\"\n",
    "with open(path) as j:\n",
    "    mess = json.load(j)"
   ]
  },
  {
   "cell_type": "code",
   "execution_count": 3,
   "id": "1519ff15-2727-4ec9-b814-bbe3a513b1fb",
   "metadata": {},
   "outputs": [
    {
     "data": {
      "text/plain": [
       "dict_keys(['likes_media_likes'])"
      ]
     },
     "execution_count": 3,
     "metadata": {},
     "output_type": "execute_result"
    }
   ],
   "source": [
    "mess.keys()"
   ]
  },
  {
   "cell_type": "code",
   "execution_count": 10,
   "id": "988a4ed3-078f-45dd-a15e-2b91f236474f",
   "metadata": {},
   "outputs": [
    {
     "data": {
      "text/html": [
       "<div>\n",
       "<style scoped>\n",
       "    .dataframe tbody tr th:only-of-type {\n",
       "        vertical-align: middle;\n",
       "    }\n",
       "\n",
       "    .dataframe tbody tr th {\n",
       "        vertical-align: top;\n",
       "    }\n",
       "\n",
       "    .dataframe thead th {\n",
       "        text-align: right;\n",
       "    }\n",
       "</style>\n",
       "<table border=\"1\" class=\"dataframe\">\n",
       "  <thead>\n",
       "    <tr style=\"text-align: right;\">\n",
       "      <th></th>\n",
       "      <th>title</th>\n",
       "      <th>string_list_data</th>\n",
       "    </tr>\n",
       "  </thead>\n",
       "  <tbody>\n",
       "    <tr>\n",
       "      <th>0</th>\n",
       "      <td>sportscenter</td>\n",
       "      <td>[{'href': 'https://www.instagram.com/reel/C_Ml...</td>\n",
       "    </tr>\n",
       "    <tr>\n",
       "      <th>1</th>\n",
       "      <td>the.jo.shmos</td>\n",
       "      <td>[{'href': 'https://www.instagram.com/p/C_JtWXv...</td>\n",
       "    </tr>\n",
       "    <tr>\n",
       "      <th>2</th>\n",
       "      <td>ccikentstate</td>\n",
       "      <td>[{'href': 'https://www.instagram.com/reel/C_JX...</td>\n",
       "    </tr>\n",
       "    <tr>\n",
       "      <th>3</th>\n",
       "      <td>imfromcleveland</td>\n",
       "      <td>[{'href': 'https://www.instagram.com/p/C_BJqam...</td>\n",
       "    </tr>\n",
       "    <tr>\n",
       "      <th>4</th>\n",
       "      <td>kentstfootball</td>\n",
       "      <td>[{'href': 'https://www.instagram.com/p/C_IfS85...</td>\n",
       "    </tr>\n",
       "  </tbody>\n",
       "</table>\n",
       "</div>"
      ],
      "text/plain": [
       "             title                                   string_list_data\n",
       "0     sportscenter  [{'href': 'https://www.instagram.com/reel/C_Ml...\n",
       "1     the.jo.shmos  [{'href': 'https://www.instagram.com/p/C_JtWXv...\n",
       "2     ccikentstate  [{'href': 'https://www.instagram.com/reel/C_JX...\n",
       "3  imfromcleveland  [{'href': 'https://www.instagram.com/p/C_BJqam...\n",
       "4   kentstfootball  [{'href': 'https://www.instagram.com/p/C_IfS85..."
      ]
     },
     "execution_count": 10,
     "metadata": {},
     "output_type": "execute_result"
    }
   ],
   "source": [
    "mess_df = pd.DataFrame(mess['likes_media_likes'])\n",
    "mess_df.head()"
   ]
  },
  {
   "cell_type": "code",
   "execution_count": 16,
   "id": "a7329130-e36c-434a-a720-8e05483eaede",
   "metadata": {},
   "outputs": [
    {
     "data": {
      "text/plain": [
       "0       [{'href': 'https://www.instagram.com/reel/C_Ml...\n",
       "1       [{'href': 'https://www.instagram.com/p/C_JtWXv...\n",
       "2       [{'href': 'https://www.instagram.com/reel/C_JX...\n",
       "3       [{'href': 'https://www.instagram.com/p/C_BJqam...\n",
       "4       [{'href': 'https://www.instagram.com/p/C_IfS85...\n",
       "                              ...                        \n",
       "3778    [{'href': 'https://www.instagram.com/p/BzEz350...\n",
       "3779    [{'href': 'https://www.instagram.com/p/Bx3lrHu...\n",
       "3780    [{'href': 'https://www.instagram.com/p/BxqBZDl...\n",
       "3781    [{'href': 'https://www.instagram.com/p/Bv2s-an...\n",
       "3782    [{'href': 'https://www.instagram.com/p/Bly0682...\n",
       "Name: string_list_data, Length: 3783, dtype: object"
      ]
     },
     "execution_count": 16,
     "metadata": {},
     "output_type": "execute_result"
    }
   ],
   "source": [
    "mess_df['string_list_data']"
   ]
  },
  {
   "cell_type": "code",
   "execution_count": 17,
   "id": "898da42e-54d6-4068-83b6-79d3ccce0dcd",
   "metadata": {},
   "outputs": [
    {
     "data": {
      "text/plain": [
       "[{'href': 'https://www.instagram.com/reel/C_Ml35MxJZm/',\n",
       "  'value': 'ð\\x9f\\x91\\x8d',\n",
       "  'timestamp': 1724882248}]"
      ]
     },
     "execution_count": 17,
     "metadata": {},
     "output_type": "execute_result"
    }
   ],
   "source": [
    "mess_df['string_list_data'].iloc[0]"
   ]
  },
  {
   "cell_type": "code",
   "execution_count": 20,
   "id": "5949edd1-58cb-4bc6-81d2-771bc8766378",
   "metadata": {},
   "outputs": [
    {
     "data": {
      "text/plain": [
       "{'href': 'https://www.instagram.com/reel/C_Ml35MxJZm/',\n",
       " 'value': 'ð\\x9f\\x91\\x8d',\n",
       " 'timestamp': 1724882248}"
      ]
     },
     "execution_count": 20,
     "metadata": {},
     "output_type": "execute_result"
    }
   ],
   "source": [
    "mess_df['string_list_data'].iloc[0][0]"
   ]
  },
  {
   "cell_type": "code",
   "execution_count": 21,
   "id": "820cb1d6-c3b4-49bc-9af6-a14c020eeb5b",
   "metadata": {},
   "outputs": [
    {
     "data": {
      "text/plain": [
       "1724882248"
      ]
     },
     "execution_count": 21,
     "metadata": {},
     "output_type": "execute_result"
    }
   ],
   "source": [
    "mess_df['string_list_data'].iloc[0][0]['timestamp']"
   ]
  },
  {
   "cell_type": "code",
   "execution_count": 34,
   "id": "409bf00e-be39-4a65-842f-9be2df7bac35",
   "metadata": {},
   "outputs": [],
   "source": [
    "mess_df['liketime'] = [x[0]['timestamp'] for x in mess_df['string_list_data']]"
   ]
  },
  {
   "cell_type": "code",
   "execution_count": 36,
   "id": "d354a786-cb8c-440b-883a-ae6848ab3db9",
   "metadata": {},
   "outputs": [
    {
     "data": {
      "text/html": [
       "<div>\n",
       "<style scoped>\n",
       "    .dataframe tbody tr th:only-of-type {\n",
       "        vertical-align: middle;\n",
       "    }\n",
       "\n",
       "    .dataframe tbody tr th {\n",
       "        vertical-align: top;\n",
       "    }\n",
       "\n",
       "    .dataframe thead th {\n",
       "        text-align: right;\n",
       "    }\n",
       "</style>\n",
       "<table border=\"1\" class=\"dataframe\">\n",
       "  <thead>\n",
       "    <tr style=\"text-align: right;\">\n",
       "      <th></th>\n",
       "      <th>title</th>\n",
       "      <th>string_list_data</th>\n",
       "      <th>timestamp</th>\n",
       "    </tr>\n",
       "  </thead>\n",
       "  <tbody>\n",
       "    <tr>\n",
       "      <th>0</th>\n",
       "      <td>sportscenter</td>\n",
       "      <td>[{'href': 'https://www.instagram.com/reel/C_Ml...</td>\n",
       "      <td>1724882248</td>\n",
       "    </tr>\n",
       "    <tr>\n",
       "      <th>1</th>\n",
       "      <td>the.jo.shmos</td>\n",
       "      <td>[{'href': 'https://www.instagram.com/p/C_JtWXv...</td>\n",
       "      <td>1724720721</td>\n",
       "    </tr>\n",
       "    <tr>\n",
       "      <th>2</th>\n",
       "      <td>ccikentstate</td>\n",
       "      <td>[{'href': 'https://www.instagram.com/reel/C_JX...</td>\n",
       "      <td>1724706756</td>\n",
       "    </tr>\n",
       "    <tr>\n",
       "      <th>3</th>\n",
       "      <td>imfromcleveland</td>\n",
       "      <td>[{'href': 'https://www.instagram.com/p/C_BJqam...</td>\n",
       "      <td>1724675754</td>\n",
       "    </tr>\n",
       "    <tr>\n",
       "      <th>4</th>\n",
       "      <td>kentstfootball</td>\n",
       "      <td>[{'href': 'https://www.instagram.com/p/C_IfS85...</td>\n",
       "      <td>1724675051</td>\n",
       "    </tr>\n",
       "  </tbody>\n",
       "</table>\n",
       "</div>"
      ],
      "text/plain": [
       "             title                                   string_list_data  \\\n",
       "0     sportscenter  [{'href': 'https://www.instagram.com/reel/C_Ml...   \n",
       "1     the.jo.shmos  [{'href': 'https://www.instagram.com/p/C_JtWXv...   \n",
       "2     ccikentstate  [{'href': 'https://www.instagram.com/reel/C_JX...   \n",
       "3  imfromcleveland  [{'href': 'https://www.instagram.com/p/C_BJqam...   \n",
       "4   kentstfootball  [{'href': 'https://www.instagram.com/p/C_IfS85...   \n",
       "\n",
       "    timestamp  \n",
       "0  1724882248  \n",
       "1  1724720721  \n",
       "2  1724706756  \n",
       "3  1724675754  \n",
       "4  1724675051  "
      ]
     },
     "execution_count": 36,
     "metadata": {},
     "output_type": "execute_result"
    }
   ],
   "source": [
    "mess_df.head()"
   ]
  },
  {
   "cell_type": "code",
   "execution_count": 47,
   "id": "af055652-fdd2-4f15-9e3f-2bdcc3f5fbd7",
   "metadata": {},
   "outputs": [
    {
     "data": {
      "text/html": [
       "<div>\n",
       "<style scoped>\n",
       "    .dataframe tbody tr th:only-of-type {\n",
       "        vertical-align: middle;\n",
       "    }\n",
       "\n",
       "    .dataframe tbody tr th {\n",
       "        vertical-align: top;\n",
       "    }\n",
       "\n",
       "    .dataframe thead th {\n",
       "        text-align: right;\n",
       "    }\n",
       "</style>\n",
       "<table border=\"1\" class=\"dataframe\">\n",
       "  <thead>\n",
       "    <tr style=\"text-align: right;\">\n",
       "      <th></th>\n",
       "      <th>string_list_data</th>\n",
       "      <th>timestamp</th>\n",
       "    </tr>\n",
       "    <tr>\n",
       "      <th>title</th>\n",
       "      <th></th>\n",
       "      <th></th>\n",
       "    </tr>\n",
       "  </thead>\n",
       "  <tbody>\n",
       "    <tr>\n",
       "      <th>sportscenter</th>\n",
       "      <td>258</td>\n",
       "      <td>258</td>\n",
       "    </tr>\n",
       "    <tr>\n",
       "      <th>barstoolkent</th>\n",
       "      <td>228</td>\n",
       "      <td>228</td>\n",
       "    </tr>\n",
       "    <tr>\n",
       "      <th>houseofhighlights</th>\n",
       "      <td>179</td>\n",
       "      <td>179</td>\n",
       "    </tr>\n",
       "    <tr>\n",
       "      <th>nyjets</th>\n",
       "      <td>134</td>\n",
       "      <td>134</td>\n",
       "    </tr>\n",
       "    <tr>\n",
       "      <th>bleacherreport</th>\n",
       "      <td>91</td>\n",
       "      <td>91</td>\n",
       "    </tr>\n",
       "    <tr>\n",
       "      <th>...</th>\n",
       "      <td>...</td>\n",
       "      <td>...</td>\n",
       "    </tr>\n",
       "    <tr>\n",
       "      <th>hypewhip</th>\n",
       "      <td>1</td>\n",
       "      <td>1</td>\n",
       "    </tr>\n",
       "    <tr>\n",
       "      <th>houseofheat</th>\n",
       "      <td>1</td>\n",
       "      <td>1</td>\n",
       "    </tr>\n",
       "    <tr>\n",
       "      <th>hoopsalerts</th>\n",
       "      <td>1</td>\n",
       "      <td>1</td>\n",
       "    </tr>\n",
       "    <tr>\n",
       "      <th>hoopgrid</th>\n",
       "      <td>1</td>\n",
       "      <td>1</td>\n",
       "    </tr>\n",
       "    <tr>\n",
       "      <th>kentinterhall</th>\n",
       "      <td>1</td>\n",
       "      <td>1</td>\n",
       "    </tr>\n",
       "  </tbody>\n",
       "</table>\n",
       "<p>661 rows × 2 columns</p>\n",
       "</div>"
      ],
      "text/plain": [
       "                   string_list_data  timestamp\n",
       "title                                         \n",
       "sportscenter                    258        258\n",
       "barstoolkent                    228        228\n",
       "houseofhighlights               179        179\n",
       "nyjets                          134        134\n",
       "bleacherreport                   91         91\n",
       "...                             ...        ...\n",
       "hypewhip                          1          1\n",
       "houseofheat                       1          1\n",
       "hoopsalerts                       1          1\n",
       "hoopgrid                          1          1\n",
       "kentinterhall                     1          1\n",
       "\n",
       "[661 rows x 2 columns]"
      ]
     },
     "execution_count": 47,
     "metadata": {},
     "output_type": "execute_result"
    }
   ],
   "source": [
    "mess_df.groupby('title').count().sort_values('timestamp', ascending = False)"
   ]
  },
  {
   "cell_type": "markdown",
   "id": "d0d5f782-fb9a-411a-886d-2e330ed9ab78",
   "metadata": {},
   "source": [
    "### I hypothesize that I can track the topics of most interest on Instagram."
   ]
  },
  {
   "cell_type": "code",
   "execution_count": 62,
   "id": "64ba8e8d-78ed-4ef0-952b-cb228530bbf5",
   "metadata": {},
   "outputs": [],
   "source": [
    "path = \"/Users/austinmonte/Documents/2024 FALL SEMESTER/DATA IN EMAT/social media data/insta/instagram-saucetin93-2024-08-29-fxG8wAf6/ads_information/ads_and_topics/posts_viewed.json\"\n",
    "with open(path) as j:\n",
    "    mess2 = json.load(j)"
   ]
  },
  {
   "cell_type": "code",
   "execution_count": 63,
   "id": "c9e8a099-e88a-471f-a5fa-5f142837cb04",
   "metadata": {},
   "outputs": [
    {
     "data": {
      "text/plain": [
       "dict_keys(['impressions_history_posts_seen'])"
      ]
     },
     "execution_count": 63,
     "metadata": {},
     "output_type": "execute_result"
    }
   ],
   "source": [
    "mess2.keys()"
   ]
  },
  {
   "cell_type": "code",
   "execution_count": 66,
   "id": "e18167a4-5c60-4cb0-a99b-b0e7e57b0a97",
   "metadata": {},
   "outputs": [
    {
     "data": {
      "text/html": [
       "<div>\n",
       "<style scoped>\n",
       "    .dataframe tbody tr th:only-of-type {\n",
       "        vertical-align: middle;\n",
       "    }\n",
       "\n",
       "    .dataframe tbody tr th {\n",
       "        vertical-align: top;\n",
       "    }\n",
       "\n",
       "    .dataframe thead th {\n",
       "        text-align: right;\n",
       "    }\n",
       "</style>\n",
       "<table border=\"1\" class=\"dataframe\">\n",
       "  <thead>\n",
       "    <tr style=\"text-align: right;\">\n",
       "      <th></th>\n",
       "      <th>string_map_data</th>\n",
       "    </tr>\n",
       "  </thead>\n",
       "  <tbody>\n",
       "    <tr>\n",
       "      <th>0</th>\n",
       "      <td>{'Author': {'value': 'csikent'}, 'Time': {'tim...</td>\n",
       "    </tr>\n",
       "    <tr>\n",
       "      <th>1</th>\n",
       "      <td>{'Author': {'value': 'kentstate'}, 'Time': {'t...</td>\n",
       "    </tr>\n",
       "    <tr>\n",
       "      <th>2</th>\n",
       "      <td>{'Author': {'value': 'sony'}, 'Time': {'timest...</td>\n",
       "    </tr>\n",
       "    <tr>\n",
       "      <th>3</th>\n",
       "      <td>{'Author': {'value': '_theblessedone'}, 'Time'...</td>\n",
       "    </tr>\n",
       "    <tr>\n",
       "      <th>4</th>\n",
       "      <td>{'Author': {'value': 'ballstatembb'}, 'Time': ...</td>\n",
       "    </tr>\n",
       "  </tbody>\n",
       "</table>\n",
       "</div>"
      ],
      "text/plain": [
       "                                     string_map_data\n",
       "0  {'Author': {'value': 'csikent'}, 'Time': {'tim...\n",
       "1  {'Author': {'value': 'kentstate'}, 'Time': {'t...\n",
       "2  {'Author': {'value': 'sony'}, 'Time': {'timest...\n",
       "3  {'Author': {'value': '_theblessedone'}, 'Time'...\n",
       "4  {'Author': {'value': 'ballstatembb'}, 'Time': ..."
      ]
     },
     "execution_count": 66,
     "metadata": {},
     "output_type": "execute_result"
    }
   ],
   "source": [
    "mess2_df = pd.DataFrame(mess2['impressions_history_posts_seen'])\n",
    "mess2_df.head()"
   ]
  },
  {
   "cell_type": "code",
   "execution_count": 72,
   "id": "c22c40dc-c8df-476b-9658-4908ea617f8a",
   "metadata": {},
   "outputs": [],
   "source": [
    "mess2_df['liketime'] = [x for x in mess2_df['string_map_data']]"
   ]
  },
  {
   "cell_type": "code",
   "execution_count": 73,
   "id": "b8550d96-7c59-4b14-95d1-db1055baa0c7",
   "metadata": {},
   "outputs": [
    {
     "data": {
      "text/plain": [
       "<bound method NDFrame.head of                                        string_map_data  \\\n",
       "0    {'Author': {'value': 'csikent'}, 'Time': {'tim...   \n",
       "1    {'Author': {'value': 'kentstate'}, 'Time': {'t...   \n",
       "2    {'Author': {'value': 'sony'}, 'Time': {'timest...   \n",
       "3    {'Author': {'value': '_theblessedone'}, 'Time'...   \n",
       "4    {'Author': {'value': 'ballstatembb'}, 'Time': ...   \n",
       "..                                                 ...   \n",
       "647  {'Author': {'value': 'adamschefter'}, 'Time': ...   \n",
       "648  {'Author': {'value': '_livsharp'}, 'Time': {'t...   \n",
       "649  {'Author': {'value': 'mookiebean'}, 'Time': {'...   \n",
       "650  {'Author': {'value': 'bleacherreport'}, 'Time'...   \n",
       "651  {'Author': {'value': 'espn'}, 'Time': {'timest...   \n",
       "\n",
       "                                              liketime  \n",
       "0    {'Author': {'value': 'csikent'}, 'Time': {'tim...  \n",
       "1    {'Author': {'value': 'kentstate'}, 'Time': {'t...  \n",
       "2    {'Author': {'value': 'sony'}, 'Time': {'timest...  \n",
       "3    {'Author': {'value': '_theblessedone'}, 'Time'...  \n",
       "4    {'Author': {'value': 'ballstatembb'}, 'Time': ...  \n",
       "..                                                 ...  \n",
       "647  {'Author': {'value': 'adamschefter'}, 'Time': ...  \n",
       "648  {'Author': {'value': '_livsharp'}, 'Time': {'t...  \n",
       "649  {'Author': {'value': 'mookiebean'}, 'Time': {'...  \n",
       "650  {'Author': {'value': 'bleacherreport'}, 'Time'...  \n",
       "651  {'Author': {'value': 'espn'}, 'Time': {'timest...  \n",
       "\n",
       "[652 rows x 2 columns]>"
      ]
     },
     "execution_count": 73,
     "metadata": {},
     "output_type": "execute_result"
    }
   ],
   "source": [
    "mess2_df.head"
   ]
  },
  {
   "cell_type": "markdown",
   "id": "0e3267f7-c420-4fce-bbd0-ca48ec128172",
   "metadata": {},
   "source": [
    "## The file I used tracks posts viewed, rather that posts liked. This data is definitely broader and more diverse than the previous data, which is why i believe the data is not easy to be \"tidied up\", using the tidy function. I also could not sort the data by most \"interested\", so I was unable to complete my hypothesis. "
   ]
  },
  {
   "cell_type": "code",
   "execution_count": null,
   "id": "457088ac-c680-46ae-a59e-78a898fff39b",
   "metadata": {},
   "outputs": [],
   "source": []
  }
 ],
 "metadata": {
  "kernelspec": {
   "display_name": "Python 3 (ipykernel)",
   "language": "python",
   "name": "python3"
  },
  "language_info": {
   "codemirror_mode": {
    "name": "ipython",
    "version": 3
   },
   "file_extension": ".py",
   "mimetype": "text/x-python",
   "name": "python",
   "nbconvert_exporter": "python",
   "pygments_lexer": "ipython3",
   "version": "3.12.4"
  }
 },
 "nbformat": 4,
 "nbformat_minor": 5
}
