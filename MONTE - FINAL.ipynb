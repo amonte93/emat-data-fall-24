{
 "cells": [
  {
   "cell_type": "markdown",
   "id": "8a065735-bb55-4829-a41a-d183e95759c7",
   "metadata": {},
   "source": [
    "# AUSTIN MONTE - FINAL PROJECT"
   ]
  },
  {
   "cell_type": "markdown",
   "id": "52516a6b-078f-409b-a225-2644fe74bc13",
   "metadata": {},
   "source": [
    "## Using the data from 13 games of Mario Superstar Baseball played with my roommate to determine who is the best character"
   ]
  },
  {
   "cell_type": "markdown",
   "id": "a59c0e91-fb10-4291-9770-6d04f5dbbc01",
   "metadata": {},
   "source": [
    "### The game records all of this data at the conclusion of each match played, so I recorded all of the data from each character of each game and averaged them out. The data used in this project is the average for each character used in all 13 games.\n",
    "\n",
    "### The data is structured into several categories, Draft Pick, batting average, Hits, RBIs, HRs, Special hits, Stolen bases, Pitching ERA, Strikeouts (K), and Big Plays. MVPS I took the total of since theres only 1 MVP per game."
   ]
  },
  {
   "cell_type": "markdown",
   "id": "b84bdf2d-4eb5-4010-971f-75a10f49b780",
   "metadata": {},
   "source": [
    "### For offensive stats, I want to look through batting average, hits, and homeruns. For defensive, big plays and ERA (if applicable). An ideal character is very good offensively and has at least some utility on defense, or vise versa. Theres not many \"balanced\" characters in the game that are good, usually these polarizing stats characters are best, and since you draft a team of 9, you can balance your team out of offensive and defensive powerhouses."
   ]
  },
  {
   "cell_type": "code",
   "execution_count": 42,
   "id": "8e994f18-b445-4afb-ae91-93ad96c2332c",
   "metadata": {},
   "outputs": [],
   "source": [
    "import pandas as pd\n",
    "from matplotlib import pyplot as plt\n",
    "import seaborn as sns\n",
    "from scipy import stats\n",
    "import statsmodels.formula.api as smf"
   ]
  },
  {
   "cell_type": "code",
   "execution_count": 43,
   "id": "3722d764-c1a1-41bd-b671-0e7b0eb3ea88",
   "metadata": {},
   "outputs": [
    {
     "data": {
      "text/html": [
       "<div>\n",
       "<style scoped>\n",
       "    .dataframe tbody tr th:only-of-type {\n",
       "        vertical-align: middle;\n",
       "    }\n",
       "\n",
       "    .dataframe tbody tr th {\n",
       "        vertical-align: top;\n",
       "    }\n",
       "\n",
       "    .dataframe thead th {\n",
       "        text-align: right;\n",
       "    }\n",
       "</style>\n",
       "<table border=\"1\" class=\"dataframe\">\n",
       "  <thead>\n",
       "    <tr style=\"text-align: right;\">\n",
       "      <th></th>\n",
       "      <th>Character</th>\n",
       "      <th>Draft Pick</th>\n",
       "      <th>BAT AVG</th>\n",
       "      <th>Hits</th>\n",
       "      <th>RBI</th>\n",
       "      <th>HR</th>\n",
       "      <th>SPECIAL</th>\n",
       "      <th>SB</th>\n",
       "      <th>ERA</th>\n",
       "      <th>K</th>\n",
       "      <th>BIG PLAYS</th>\n",
       "      <th>TOTAL MVPS</th>\n",
       "      <th># OF GAMES PLAYED</th>\n",
       "    </tr>\n",
       "  </thead>\n",
       "  <tbody>\n",
       "    <tr>\n",
       "      <th>0</th>\n",
       "      <td>Birdo</td>\n",
       "      <td>0.53</td>\n",
       "      <td>0.459</td>\n",
       "      <td>2.08</td>\n",
       "      <td>0.046</td>\n",
       "      <td>0.00</td>\n",
       "      <td>2.230</td>\n",
       "      <td>0.00</td>\n",
       "      <td>NaN</td>\n",
       "      <td>0.00</td>\n",
       "      <td>1.62</td>\n",
       "      <td>1</td>\n",
       "      <td>13</td>\n",
       "    </tr>\n",
       "    <tr>\n",
       "      <th>1</th>\n",
       "      <td>Bowser</td>\n",
       "      <td>0.53</td>\n",
       "      <td>0.433</td>\n",
       "      <td>1.85</td>\n",
       "      <td>2.380</td>\n",
       "      <td>1.15</td>\n",
       "      <td>0.000</td>\n",
       "      <td>0.00</td>\n",
       "      <td>26.51</td>\n",
       "      <td>0.00</td>\n",
       "      <td>0.38</td>\n",
       "      <td>3</td>\n",
       "      <td>13</td>\n",
       "    </tr>\n",
       "    <tr>\n",
       "      <th>2</th>\n",
       "      <td>Petey</td>\n",
       "      <td>1.08</td>\n",
       "      <td>0.358</td>\n",
       "      <td>1.69</td>\n",
       "      <td>2.150</td>\n",
       "      <td>1.00</td>\n",
       "      <td>0.000</td>\n",
       "      <td>0.00</td>\n",
       "      <td>0.00</td>\n",
       "      <td>0.00</td>\n",
       "      <td>0.03</td>\n",
       "      <td>4</td>\n",
       "      <td>13</td>\n",
       "    </tr>\n",
       "    <tr>\n",
       "      <th>3</th>\n",
       "      <td>DK</td>\n",
       "      <td>1.92</td>\n",
       "      <td>0.281</td>\n",
       "      <td>1.31</td>\n",
       "      <td>1.000</td>\n",
       "      <td>0.46</td>\n",
       "      <td>0.080</td>\n",
       "      <td>0.00</td>\n",
       "      <td>NaN</td>\n",
       "      <td>0.00</td>\n",
       "      <td>0.31</td>\n",
       "      <td>0</td>\n",
       "      <td>13</td>\n",
       "    </tr>\n",
       "    <tr>\n",
       "      <th>4</th>\n",
       "      <td>Yoshi</td>\n",
       "      <td>2.77</td>\n",
       "      <td>0.576</td>\n",
       "      <td>2.77</td>\n",
       "      <td>1.080</td>\n",
       "      <td>0.00</td>\n",
       "      <td>2.230</td>\n",
       "      <td>0.08</td>\n",
       "      <td>NaN</td>\n",
       "      <td>0.00</td>\n",
       "      <td>1.23</td>\n",
       "      <td>1</td>\n",
       "      <td>13</td>\n",
       "    </tr>\n",
       "    <tr>\n",
       "      <th>5</th>\n",
       "      <td>Boo</td>\n",
       "      <td>2.92</td>\n",
       "      <td>0.397</td>\n",
       "      <td>1.92</td>\n",
       "      <td>0.690</td>\n",
       "      <td>0.00</td>\n",
       "      <td>0.000</td>\n",
       "      <td>0.15</td>\n",
       "      <td>11.41</td>\n",
       "      <td>1.46</td>\n",
       "      <td>0.15</td>\n",
       "      <td>1</td>\n",
       "      <td>13</td>\n",
       "    </tr>\n",
       "    <tr>\n",
       "      <th>6</th>\n",
       "      <td>Bro</td>\n",
       "      <td>4.69</td>\n",
       "      <td>0.335</td>\n",
       "      <td>1.47</td>\n",
       "      <td>0.850</td>\n",
       "      <td>0.54</td>\n",
       "      <td>0.000</td>\n",
       "      <td>0.00</td>\n",
       "      <td>NaN</td>\n",
       "      <td>0.00</td>\n",
       "      <td>0.31</td>\n",
       "      <td>0</td>\n",
       "      <td>13</td>\n",
       "    </tr>\n",
       "    <tr>\n",
       "      <th>7</th>\n",
       "      <td>Wario</td>\n",
       "      <td>6.38</td>\n",
       "      <td>0.259</td>\n",
       "      <td>1.15</td>\n",
       "      <td>0.920</td>\n",
       "      <td>0.23</td>\n",
       "      <td>0.080</td>\n",
       "      <td>0.00</td>\n",
       "      <td>NaN</td>\n",
       "      <td>0.00</td>\n",
       "      <td>0.08</td>\n",
       "      <td>1</td>\n",
       "      <td>13</td>\n",
       "    </tr>\n",
       "    <tr>\n",
       "      <th>8</th>\n",
       "      <td>KBOO</td>\n",
       "      <td>6.85</td>\n",
       "      <td>0.273</td>\n",
       "      <td>1.08</td>\n",
       "      <td>0.850</td>\n",
       "      <td>0.23</td>\n",
       "      <td>0.000</td>\n",
       "      <td>0.00</td>\n",
       "      <td>8.35</td>\n",
       "      <td>1.00</td>\n",
       "      <td>0.08</td>\n",
       "      <td>0</td>\n",
       "      <td>13</td>\n",
       "    </tr>\n",
       "    <tr>\n",
       "      <th>9</th>\n",
       "      <td>WaluigI</td>\n",
       "      <td>7.62</td>\n",
       "      <td>0.396</td>\n",
       "      <td>1.77</td>\n",
       "      <td>0.380</td>\n",
       "      <td>0.00</td>\n",
       "      <td>0.460</td>\n",
       "      <td>0.00</td>\n",
       "      <td>7.39</td>\n",
       "      <td>1.80</td>\n",
       "      <td>0.08</td>\n",
       "      <td>0</td>\n",
       "      <td>13</td>\n",
       "    </tr>\n",
       "    <tr>\n",
       "      <th>10</th>\n",
       "      <td>Diddy</td>\n",
       "      <td>8.62</td>\n",
       "      <td>0.365</td>\n",
       "      <td>1.62</td>\n",
       "      <td>0.380</td>\n",
       "      <td>0.00</td>\n",
       "      <td>1.080</td>\n",
       "      <td>0.08</td>\n",
       "      <td>NaN</td>\n",
       "      <td>0.00</td>\n",
       "      <td>0.77</td>\n",
       "      <td>0</td>\n",
       "      <td>13</td>\n",
       "    </tr>\n",
       "    <tr>\n",
       "      <th>11</th>\n",
       "      <td>Magic</td>\n",
       "      <td>9.23</td>\n",
       "      <td>0.322</td>\n",
       "      <td>1.46</td>\n",
       "      <td>0.380</td>\n",
       "      <td>0.08</td>\n",
       "      <td>0.031</td>\n",
       "      <td>0.00</td>\n",
       "      <td>NaN</td>\n",
       "      <td>0.00</td>\n",
       "      <td>0.85</td>\n",
       "      <td>0</td>\n",
       "      <td>13</td>\n",
       "    </tr>\n",
       "    <tr>\n",
       "      <th>12</th>\n",
       "      <td>Paratroo</td>\n",
       "      <td>12.46</td>\n",
       "      <td>0.297</td>\n",
       "      <td>1.23</td>\n",
       "      <td>0.310</td>\n",
       "      <td>0.00</td>\n",
       "      <td>0.230</td>\n",
       "      <td>0.00</td>\n",
       "      <td>NaN</td>\n",
       "      <td>0.00</td>\n",
       "      <td>0.23</td>\n",
       "      <td>0</td>\n",
       "      <td>13</td>\n",
       "    </tr>\n",
       "  </tbody>\n",
       "</table>\n",
       "</div>"
      ],
      "text/plain": [
       "   Character  Draft Pick  BAT AVG  Hits    RBI    HR  SPECIAL    SB    ERA  \\\n",
       "0     Birdo         0.53    0.459  2.08  0.046  0.00    2.230  0.00    NaN   \n",
       "1     Bowser        0.53    0.433  1.85  2.380  1.15    0.000  0.00  26.51   \n",
       "2     Petey         1.08    0.358  1.69  2.150  1.00    0.000  0.00   0.00   \n",
       "3        DK         1.92    0.281  1.31  1.000  0.46    0.080  0.00    NaN   \n",
       "4     Yoshi         2.77    0.576  2.77  1.080  0.00    2.230  0.08    NaN   \n",
       "5       Boo         2.92    0.397  1.92  0.690  0.00    0.000  0.15  11.41   \n",
       "6       Bro         4.69    0.335  1.47  0.850  0.54    0.000  0.00    NaN   \n",
       "7     Wario         6.38    0.259  1.15  0.920  0.23    0.080  0.00    NaN   \n",
       "8       KBOO        6.85    0.273  1.08  0.850  0.23    0.000  0.00   8.35   \n",
       "9    WaluigI        7.62    0.396  1.77  0.380  0.00    0.460  0.00   7.39   \n",
       "10    Diddy         8.62    0.365  1.62  0.380  0.00    1.080  0.08    NaN   \n",
       "11    Magic         9.23    0.322  1.46  0.380  0.08    0.031  0.00    NaN   \n",
       "12  Paratroo       12.46    0.297  1.23  0.310  0.00    0.230  0.00    NaN   \n",
       "\n",
       "       K  BIG PLAYS  TOTAL MVPS  # OF GAMES PLAYED  \n",
       "0   0.00       1.62           1                 13  \n",
       "1   0.00       0.38           3                 13  \n",
       "2   0.00       0.03           4                 13  \n",
       "3   0.00       0.31           0                 13  \n",
       "4   0.00       1.23           1                 13  \n",
       "5   1.46       0.15           1                 13  \n",
       "6   0.00       0.31           0                 13  \n",
       "7   0.00       0.08           1                 13  \n",
       "8   1.00       0.08           0                 13  \n",
       "9   1.80       0.08           0                 13  \n",
       "10  0.00       0.77           0                 13  \n",
       "11  0.00       0.85           0                 13  \n",
       "12  0.00       0.23           0                 13  "
      ]
     },
     "execution_count": 43,
     "metadata": {},
     "output_type": "execute_result"
    }
   ],
   "source": [
    "ces = pd.read_csv('mbb_chara_stats.csv')\n",
    "ces.head(15)"
   ]
  },
  {
   "cell_type": "code",
   "execution_count": 44,
   "id": "3a42cbce-f479-443f-a4d0-1f40020bd376",
   "metadata": {},
   "outputs": [
    {
     "data": {
      "text/plain": [
       "(13, 13)"
      ]
     },
     "execution_count": 44,
     "metadata": {},
     "output_type": "execute_result"
    }
   ],
   "source": [
    "ces.shape"
   ]
  },
  {
   "cell_type": "code",
   "execution_count": 45,
   "id": "8e0cce99-e03e-46fc-8a8d-4248f01799e1",
   "metadata": {},
   "outputs": [
    {
     "data": {
      "text/plain": [
       "Index(['Character', 'Draft Pick', 'BAT AVG', 'Hits', 'RBI', 'HR', 'SPECIAL',\n",
       "       'SB', 'ERA', 'K', 'BIG PLAYS', 'TOTAL MVPS', '# OF GAMES PLAYED'],\n",
       "      dtype='object')"
      ]
     },
     "execution_count": 45,
     "metadata": {},
     "output_type": "execute_result"
    }
   ],
   "source": [
    "ces.columns"
   ]
  },
  {
   "cell_type": "code",
   "execution_count": 46,
   "id": "f31c314f-8183-4743-96f8-3efed48caccf",
   "metadata": {},
   "outputs": [
    {
     "data": {
      "text/plain": [
       "Hits\n",
       "2.08    1\n",
       "1.85    1\n",
       "1.69    1\n",
       "1.31    1\n",
       "2.77    1\n",
       "1.92    1\n",
       "1.47    1\n",
       "1.15    1\n",
       "1.08    1\n",
       "1.77    1\n",
       "1.62    1\n",
       "1.46    1\n",
       "1.23    1\n",
       "Name: count, dtype: int64"
      ]
     },
     "execution_count": 46,
     "metadata": {},
     "output_type": "execute_result"
    }
   ],
   "source": [
    "ces['Hits'].value_counts()"
   ]
  },
  {
   "cell_type": "code",
   "execution_count": 47,
   "id": "3841eb43-474e-4d5d-8a74-3af6669cfb86",
   "metadata": {},
   "outputs": [
    {
     "data": {
      "text/plain": [
       "0     2.08\n",
       "1     1.85\n",
       "2     1.69\n",
       "3     1.31\n",
       "4     2.77\n",
       "5     1.92\n",
       "6     1.47\n",
       "7     1.15\n",
       "8     1.08\n",
       "9     1.77\n",
       "10    1.62\n",
       "11    1.46\n",
       "12    1.23\n",
       "Name: Hits, dtype: float64"
      ]
     },
     "execution_count": 47,
     "metadata": {},
     "output_type": "execute_result"
    }
   ],
   "source": [
    "ces_hits = ces.replace({'Hits': {1: 'Birdo', 2: 'Bowser', 3: 'Petey', 4: 'DK', 5: 'Yoshi', 6: 'Boo', 7: 'Wario', 8: 'KingBoo', 9: 'Waluigi', 10: 'Diddy', 11: 'Magic', 12: 'Paratroopa'}})['Hits']\n",
    "ces_hits"
   ]
  },
  {
   "cell_type": "code",
   "execution_count": 50,
   "id": "8e6c1a48-72d3-49a1-9e8e-ede7d213942c",
   "metadata": {},
   "outputs": [
    {
     "ename": "SyntaxError",
     "evalue": "invalid syntax. Perhaps you forgot a comma? (170083481.py, line 2)",
     "output_type": "error",
     "traceback": [
      "\u001b[0;36m  Cell \u001b[0;32mIn[50], line 2\u001b[0;36m\u001b[0m\n\u001b[0;31m    ax1.bar(['Birdo', 'Bowser', 'Petey', 'DK', 'Yoshi', 'Boo', 'Wario', 'KingBoo', 'Waluigi', 'Diddy', 'Magic', 'Paratroopa'] ces['BAT AVG'])\u001b[0m\n\u001b[0m            ^\u001b[0m\n\u001b[0;31mSyntaxError\u001b[0m\u001b[0;31m:\u001b[0m invalid syntax. Perhaps you forgot a comma?\n"
     ]
    }
   ],
   "source": [
    "fig1, ax1 = plt.subplots()\n",
    "ax1.bar(['Birdo', 'Bowser', 'Petey', 'DK', 'Yoshi', 'Boo', 'Wario', 'KingBoo', 'Waluigi', 'Diddy', 'Magic', 'Paratroopa'] ces['Hits'])\n",
    "plt.show(15)"
   ]
  },
  {
   "cell_type": "code",
   "execution_count": 49,
   "id": "0ed1a7c9-a542-487e-937d-ef53bd4c3bcf",
   "metadata": {},
   "outputs": [
    {
     "data": {
      "text/plain": [
       "(1.08, 2.77)"
      ]
     },
     "execution_count": 49,
     "metadata": {},
     "output_type": "execute_result"
    }
   ],
   "source": [
    "hit_desc = stats.describe(ces['Hits'])\n",
    "hit_desc.minmax"
   ]
  },
  {
   "cell_type": "code",
   "execution_count": null,
   "id": "282bbbf5-8ce8-4664-91e5-2a79b5e966e9",
   "metadata": {},
   "outputs": [],
   "source": [
    "fig2, ax2 = plt.subplots()\n",
    "ax2.bar(['Birdo', 'Bowser', 'Petey', 'DK', 'Yoshi', 'Boo', 'Wario', 'KingBoo', 'Waluigi', 'Diddy', 'Magic', 'Paratroopa'] ces['BAT AVG'])\n",
    "plt.show(15)"
   ]
  },
  {
   "cell_type": "code",
   "execution_count": null,
   "id": "0209fb98-15ba-403a-98ca-fecf49e0a3ff",
   "metadata": {},
   "outputs": [],
   "source": [
    "fig3, ax3 = plt.subplots()\n",
    "ax3.bar(['Birdo', 'Bowser', 'Petey', 'DK', 'Yoshi', 'Boo', 'Wario', 'KingBoo', 'Waluigi', 'Diddy', 'Magic', 'Paratroopa'] ces['HR'])\n",
    "plt.show(15)"
   ]
  },
  {
   "cell_type": "code",
   "execution_count": null,
   "id": "f7f1c67c-366c-40fa-8611-c394744d326d",
   "metadata": {},
   "outputs": [],
   "source": [
    "fig4, ax4 = plt.subplots()\n",
    "ax4.bar(['Birdo', 'Bowser', 'Petey', 'DK', 'Yoshi', 'Boo', 'Wario', 'KingBoo', 'Waluigi', 'Diddy', 'Magic', 'Paratroopa'] ces['BIG PLAYS'])\n",
    "plt.show(15)"
   ]
  },
  {
   "cell_type": "code",
   "execution_count": null,
   "id": "c24d5299-f5d9-41fa-b0e3-98686cbdb29d",
   "metadata": {},
   "outputs": [],
   "source": []
  }
 ],
 "metadata": {
  "kernelspec": {
   "display_name": "Python 3 (ipykernel)",
   "language": "python",
   "name": "python3"
  },
  "language_info": {
   "codemirror_mode": {
    "name": "ipython",
    "version": 3
   },
   "file_extension": ".py",
   "mimetype": "text/x-python",
   "name": "python",
   "nbconvert_exporter": "python",
   "pygments_lexer": "ipython3",
   "version": "3.12.4"
  }
 },
 "nbformat": 4,
 "nbformat_minor": 5
}
